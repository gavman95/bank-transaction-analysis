{
 "cells": [
  {
   "cell_type": "markdown",
   "metadata": {},
   "source": [
    "## Python regex"
   ]
  },
  {
   "cell_type": "code",
   "execution_count": 28,
   "metadata": {},
   "outputs": [],
   "source": [
    "import pandas as pd\n",
    "import re\n",
    "import os\n",
    "\n"
   ]
  },
  {
   "cell_type": "code",
   "execution_count": 29,
   "metadata": {},
   "outputs": [],
   "source": [
    "#Felt creating a class would make it cleaner and effecient\n",
    "class data_cleaning:\n",
    "    df = None\n",
    "    keywords = {}\n",
    "    def __init__(self):\n",
    "        pass\n",
    "    #Load Data    \n",
    "    def load_data(self, file_path):\n",
    "        if file_path is None:\n",
    "            return None\n",
    "        else:\n",
    "            df = pd.read_csv(file_path)\n",
    "            print(df.shape)\n",
    "        \n",
    "        self.df = df\n",
    "        return True\n",
    "    #Store matching keywords\n",
    "    def add_keywords(self, item):\n",
    "        self.keywords.update(item)\n",
    "        return True\n",
    "    \n",
    "\n",
    "    # def keyword_replace(self, old, new, text):\n",
    "    #     self.df['details'] = self.df['details'].apply(lambda x: x.replace(\"'\", ''))\n",
    "    #     if re.search(rf'\\b{re.escape(old)}\\b', text, flags=re.IGNORECASE):\n",
    "    #         text=re.sub(rf'\\b{re.escape(old)}\\b' , new, text)\n",
    "    #     else:\n",
    "    #         next\n",
    "    #     # re.search(rf'\\b{re.escape('MCDONALDS')}\\b', d, flags=re.IGNORECASE)\n",
    "    #     return text\n",
    "    # def apply_keyword_replace(self, old, new):\n",
    "    #     self.df['details'] = self.df['details'].apply(lambda x: self.keyword_replace(old, new, x))\n",
    "    \n",
    "    #replace one word with another e.g. 'Chirnside' --> 'MCDONALDS'\n",
    "    def apply_keyword_replace(self, old, new):\n",
    "        def keyword_replace(text):\n",
    "            # Remove apostrophes\n",
    "            cleaned_text = text.replace(\"'\", '')\n",
    "\n",
    "            if re.search(rf'\\b{re.escape(old)}\\b', cleaned_text, flags=re.IGNORECASE):\n",
    "                cleaned_text = re.sub(rf'\\b{re.escape(old)}\\b', new, cleaned_text, flags=re.IGNORECASE)\n",
    "\n",
    "            return cleaned_text\n",
    "\n",
    "        self.df['details'] = self.df['details'].apply(keyword_replace)\n",
    "        return True\n",
    "    \n",
    "\n",
    "    # Extract subcategory function, search transaction details with keywords dictionary, then create subcategory\n",
    "    def apply_extract_subcategory(self):\n",
    "        def extract_subcategory(text):\n",
    "            cleaned_text = re.sub(r\"[^a-zA-Z0-9_]+\", ' ', text)  # Remove special characters and multiple spaces\n",
    "            for category, category_keywords in self.keywords.items():\n",
    "                for keyword in category_keywords:\n",
    "                    if re.search(rf'\\b{re.escape(keyword)}\\b', cleaned_text, flags=re.IGNORECASE) or cleaned_text.lower().find(keyword.lower()) != -1:\n",
    "                        return keyword\n",
    "            return 'Other'\n",
    "        self.df['Subcategory'] = self.df['details'].apply(extract_subcategory) \n",
    "        return True           \n",
    "\n",
    "    # Apply the function to the 'Details' column\n",
    "    # df['Subcategory'] = df['cln'].apply(lambda x: extract_subcategory(x, keywords))\n",
    "    \n",
    "    \n",
    "    \n",
    "    \n",
    "    \n",
    "\n",
    "        \n",
    "\n"
   ]
  },
  {
   "cell_type": "code",
   "execution_count": 30,
   "metadata": {},
   "outputs": [
    {
     "name": "stdout",
     "output_type": "stream",
     "text": [
      "/Users/gavivignes/Documents/GitHub/personal-projects/2023 bank statements analysis/python\n",
      "(528, 8)\n"
     ]
    },
    {
     "data": {
      "text/html": [
       "<div>\n",
       "<style scoped>\n",
       "    .dataframe tbody tr th:only-of-type {\n",
       "        vertical-align: middle;\n",
       "    }\n",
       "\n",
       "    .dataframe tbody tr th {\n",
       "        vertical-align: top;\n",
       "    }\n",
       "\n",
       "    .dataframe thead th {\n",
       "        text-align: right;\n",
       "    }\n",
       "</style>\n",
       "<table border=\"1\" class=\"dataframe\">\n",
       "  <thead>\n",
       "    <tr style=\"text-align: right;\">\n",
       "      <th></th>\n",
       "      <th>date_of_transaction</th>\n",
       "      <th>month_of_transaction</th>\n",
       "      <th>details</th>\n",
       "      <th>transaction</th>\n",
       "      <th>deposit</th>\n",
       "      <th>cc_balance_paid</th>\n",
       "      <th>card</th>\n",
       "      <th>category</th>\n",
       "    </tr>\n",
       "  </thead>\n",
       "  <tbody>\n",
       "    <tr>\n",
       "      <th>0</th>\n",
       "      <td>1/1/2023</td>\n",
       "      <td>1/1/2023</td>\n",
       "      <td>SPOTIFY                 SYDNEY</td>\n",
       "      <td>-12</td>\n",
       "      <td>(null)</td>\n",
       "      <td>False</td>\n",
       "      <td>AMEX</td>\n",
       "      <td>Streaming</td>\n",
       "    </tr>\n",
       "    <tr>\n",
       "      <th>1</th>\n",
       "      <td>2/1/2023</td>\n",
       "      <td>1/1/2023</td>\n",
       "      <td>UBER EATS               HELP.UBER.COM</td>\n",
       "      <td>-32</td>\n",
       "      <td>(null)</td>\n",
       "      <td>False</td>\n",
       "      <td>AMEX</td>\n",
       "      <td>Fast Food</td>\n",
       "    </tr>\n",
       "    <tr>\n",
       "      <th>2</th>\n",
       "      <td>3/1/2023</td>\n",
       "      <td>1/1/2023</td>\n",
       "      <td>PAYMENT FROM VITHUSHA VIGNESWARAMOORTHYÂ</td>\n",
       "      <td>(null)</td>\n",
       "      <td>10</td>\n",
       "      <td>False</td>\n",
       "      <td>ANZ_Savings</td>\n",
       "      <td>Other</td>\n",
       "    </tr>\n",
       "    <tr>\n",
       "      <th>3</th>\n",
       "      <td>3/1/2023</td>\n",
       "      <td>1/1/2023</td>\n",
       "      <td>SQ SCISSORS STYLE BAR DUNDAS VALLEYÂ</td>\n",
       "      <td>-30</td>\n",
       "      <td>(null)</td>\n",
       "      <td>False</td>\n",
       "      <td>ANZ_Savings</td>\n",
       "      <td>Other</td>\n",
       "    </tr>\n",
       "    <tr>\n",
       "      <th>4</th>\n",
       "      <td>3/1/2023</td>\n",
       "      <td>1/1/2023</td>\n",
       "      <td>STORE MCDONALDS PARÂ</td>\n",
       "      <td>-19.35</td>\n",
       "      <td>(null)</td>\n",
       "      <td>False</td>\n",
       "      <td>ANZ_Savings</td>\n",
       "      <td>Fast Food</td>\n",
       "    </tr>\n",
       "  </tbody>\n",
       "</table>\n",
       "</div>"
      ],
      "text/plain": [
       "  date_of_transaction month_of_transaction  \\\n",
       "0            1/1/2023             1/1/2023   \n",
       "1            2/1/2023             1/1/2023   \n",
       "2            3/1/2023             1/1/2023   \n",
       "3            3/1/2023             1/1/2023   \n",
       "4            3/1/2023             1/1/2023   \n",
       "\n",
       "                                     details transaction deposit  \\\n",
       "0             SPOTIFY                 SYDNEY         -12  (null)   \n",
       "1      UBER EATS               HELP.UBER.COM         -32  (null)   \n",
       "2  PAYMENT FROM VITHUSHA VIGNESWARAMOORTHYÂ       (null)      10   \n",
       "3      SQ SCISSORS STYLE BAR DUNDAS VALLEYÂ          -30  (null)   \n",
       "4                      STORE MCDONALDS PARÂ       -19.35  (null)   \n",
       "\n",
       "   cc_balance_paid         card   category  \n",
       "0            False         AMEX  Streaming  \n",
       "1            False         AMEX  Fast Food  \n",
       "2            False  ANZ_Savings      Other  \n",
       "3            False  ANZ_Savings      Other  \n",
       "4            False  ANZ_Savings  Fast Food  "
      ]
     },
     "execution_count": 30,
     "metadata": {},
     "output_type": "execute_result"
    }
   ],
   "source": [
    "# Prepate data\n",
    "d = data_cleaning()\n",
    "print(os.getcwd())\n",
    "d.load_data('../data/bank_transactions.csv')\n",
    "d.df.head()\n"
   ]
  },
  {
   "cell_type": "code",
   "execution_count": 31,
   "metadata": {},
   "outputs": [
    {
     "data": {
      "text/plain": [
       "True"
      ]
     },
     "execution_count": 31,
     "metadata": {},
     "output_type": "execute_result"
    }
   ],
   "source": [
    "# Keywords dictionary\n",
    "keywords = {\n",
    "    'Streaming': ['NETFLIX', 'PRIME', 'SPOTIFY', 'DISNEY', 'GOOGLE', 'STREAMOTION'],\n",
    "    'Learning': ['GOOGLE', 'LINKEDIN', 'COURSERA'],\n",
    "    'Other': ['Other'],\n",
    "    'Voluntary HECS repayment': ['ATO PAYMENT'],\n",
    "    'Gym/Fitness': ['TO ZAC NAYLOR PT', 'MY MUSCLE CHEF', 'DBSGenesis'],\n",
    "    'Fast Food': ['MCDONALDS', 'KFC', 'UBER EATS', 'DOORDASH', 'FISH', 'BERLIN', 'GRILLD', 'UBER PASS', 'UBER ONE', 'HUNGRY JACKS', 'MENULOG', 'NANDOS', 'FREEDOM'],\n",
    "    'Moving UK': ['IHS', 'BB-UKVI'],\n",
    "    'Cinemas': ['EVENT'],\n",
    "    'Travel': ['INTREPID ', 'THAI AIRWAYS', 'GRAB', 'WISE', 'SINGAPORE', 'MARRIOT', 'TRAVEL INSURANCE'],\n",
    "    'Amazon Shopping': ['AMAZON'],\n",
    "    'Groceries/Petrol': ['WOOLWORTHS', 'COLES', '7-ELEVEN'],\n",
    "    'Internet/Mobile': ['OPTUS', 'KOGAN'],\n",
    "    'Renovation': ['TO ASNU', 'ANZ MOBILE BANKING PAYMENT', 'P MARIANAYAGAM'],\n",
    "    'Credit Card balance paid': ['TO NAB CARD AUTOPAY', 'ANZ M-BANKING', 'TO AMERICAN EXPRESS'],\n",
    "    'Salary': ['FROM RESTPAYROLL'],\n",
    "    'Clothing': ['M J BALE', 'THE ACADEMY BRAND', 'UNIQLO'],\n",
    "    'Public/Private Transport costs': ['UBER TRIP', 'SERVICE NSW', 'TRANSPORTFORNSW'],\n",
    "}\n",
    "d.add_keywords(keywords)\n"
   ]
  },
  {
   "cell_type": "code",
   "execution_count": 32,
   "metadata": {},
   "outputs": [
    {
     "data": {
      "text/plain": [
       "{'Streaming': ['NETFLIX',\n",
       "  'PRIME',\n",
       "  'SPOTIFY',\n",
       "  'DISNEY',\n",
       "  'GOOGLE',\n",
       "  'STREAMOTION'],\n",
       " 'Learning': ['GOOGLE', 'LINKEDIN', 'COURSERA'],\n",
       " 'Other': ['Other'],\n",
       " 'Voluntary HECS repayment': ['ATO PAYMENT'],\n",
       " 'Gym/Fitness': ['TO ZAC NAYLOR PT', 'MY MUSCLE CHEF', 'DBSGenesis'],\n",
       " 'Fast Food': ['MCDONALDS',\n",
       "  'KFC',\n",
       "  'UBER EATS',\n",
       "  'DOORDASH',\n",
       "  'FISH',\n",
       "  'BERLIN',\n",
       "  'GRILLD',\n",
       "  'UBER PASS',\n",
       "  'UBER ONE',\n",
       "  'HUNGRY JACKS',\n",
       "  'MENULOG',\n",
       "  'NANDOS',\n",
       "  'FREEDOM'],\n",
       " 'Moving UK': ['IHS', 'BB-UKVI'],\n",
       " 'Cinemas': ['EVENT'],\n",
       " 'Travel': ['INTREPID ',\n",
       "  'THAI AIRWAYS',\n",
       "  'GRAB',\n",
       "  'WISE',\n",
       "  'SINGAPORE',\n",
       "  'MARRIOT',\n",
       "  'TRAVEL INSURANCE'],\n",
       " 'Amazon Shopping': ['AMAZON'],\n",
       " 'Groceries/Petrol': ['WOOLWORTHS', 'COLES', '7-ELEVEN'],\n",
       " 'Internet/Mobile': ['OPTUS', 'KOGAN'],\n",
       " 'Renovation': ['TO ASNU', 'ANZ MOBILE BANKING PAYMENT', 'P MARIANAYAGAM'],\n",
       " 'Credit Card balance paid': ['TO NAB CARD AUTOPAY',\n",
       "  'ANZ M-BANKING',\n",
       "  'TO AMERICAN EXPRESS'],\n",
       " 'Salary': ['FROM RESTPAYROLL'],\n",
       " 'Clothing': ['M J BALE', 'THE ACADEMY BRAND', 'UNIQLO'],\n",
       " 'Public/Private Transport costs': ['UBER TRIP',\n",
       "  'SERVICE NSW',\n",
       "  'TRANSPORTFORNSW']}"
      ]
     },
     "execution_count": 32,
     "metadata": {},
     "output_type": "execute_result"
    }
   ],
   "source": [
    "d.keywords"
   ]
  },
  {
   "cell_type": "code",
   "execution_count": 33,
   "metadata": {},
   "outputs": [
    {
     "data": {
      "text/plain": [
       "True"
      ]
     },
     "execution_count": 33,
     "metadata": {},
     "output_type": "execute_result"
    }
   ],
   "source": [
    "d.apply_keyword_replace(\"CHIRNSIDE\", 'MCDONALDS')"
   ]
  },
  {
   "cell_type": "code",
   "execution_count": 34,
   "metadata": {},
   "outputs": [],
   "source": [
    "# d.df.query('category == \"Fast Food\" & card == \"AMEX\"')\n"
   ]
  },
  {
   "cell_type": "code",
   "execution_count": 35,
   "metadata": {},
   "outputs": [
    {
     "data": {
      "text/plain": [
       "True"
      ]
     },
     "execution_count": 35,
     "metadata": {},
     "output_type": "execute_result"
    }
   ],
   "source": [
    "d.apply_extract_subcategory()"
   ]
  },
  {
   "cell_type": "code",
   "execution_count": 36,
   "metadata": {},
   "outputs": [
    {
     "data": {
      "text/html": [
       "<div>\n",
       "<style scoped>\n",
       "    .dataframe tbody tr th:only-of-type {\n",
       "        vertical-align: middle;\n",
       "    }\n",
       "\n",
       "    .dataframe tbody tr th {\n",
       "        vertical-align: top;\n",
       "    }\n",
       "\n",
       "    .dataframe thead th {\n",
       "        text-align: right;\n",
       "    }\n",
       "</style>\n",
       "<table border=\"1\" class=\"dataframe\">\n",
       "  <thead>\n",
       "    <tr style=\"text-align: right;\">\n",
       "      <th></th>\n",
       "      <th>date_of_transaction</th>\n",
       "      <th>month_of_transaction</th>\n",
       "      <th>details</th>\n",
       "      <th>transaction</th>\n",
       "      <th>deposit</th>\n",
       "      <th>cc_balance_paid</th>\n",
       "      <th>card</th>\n",
       "      <th>category</th>\n",
       "      <th>Subcategory</th>\n",
       "    </tr>\n",
       "  </thead>\n",
       "  <tbody>\n",
       "    <tr>\n",
       "      <th>0</th>\n",
       "      <td>1/1/2023</td>\n",
       "      <td>1/1/2023</td>\n",
       "      <td>SPOTIFY                 SYDNEY</td>\n",
       "      <td>-12</td>\n",
       "      <td>(null)</td>\n",
       "      <td>False</td>\n",
       "      <td>AMEX</td>\n",
       "      <td>Streaming</td>\n",
       "      <td>SPOTIFY</td>\n",
       "    </tr>\n",
       "    <tr>\n",
       "      <th>1</th>\n",
       "      <td>2/1/2023</td>\n",
       "      <td>1/1/2023</td>\n",
       "      <td>UBER EATS               HELP.UBER.COM</td>\n",
       "      <td>-32</td>\n",
       "      <td>(null)</td>\n",
       "      <td>False</td>\n",
       "      <td>AMEX</td>\n",
       "      <td>Fast Food</td>\n",
       "      <td>UBER EATS</td>\n",
       "    </tr>\n",
       "    <tr>\n",
       "      <th>2</th>\n",
       "      <td>3/1/2023</td>\n",
       "      <td>1/1/2023</td>\n",
       "      <td>PAYMENT FROM VITHUSHA VIGNESWARAMOORTHYÂ</td>\n",
       "      <td>(null)</td>\n",
       "      <td>10</td>\n",
       "      <td>False</td>\n",
       "      <td>ANZ_Savings</td>\n",
       "      <td>Other</td>\n",
       "      <td>Other</td>\n",
       "    </tr>\n",
       "    <tr>\n",
       "      <th>3</th>\n",
       "      <td>3/1/2023</td>\n",
       "      <td>1/1/2023</td>\n",
       "      <td>SQ SCISSORS STYLE BAR DUNDAS VALLEYÂ</td>\n",
       "      <td>-30</td>\n",
       "      <td>(null)</td>\n",
       "      <td>False</td>\n",
       "      <td>ANZ_Savings</td>\n",
       "      <td>Other</td>\n",
       "      <td>Other</td>\n",
       "    </tr>\n",
       "    <tr>\n",
       "      <th>4</th>\n",
       "      <td>3/1/2023</td>\n",
       "      <td>1/1/2023</td>\n",
       "      <td>STORE MCDONALDS PARÂ</td>\n",
       "      <td>-19.35</td>\n",
       "      <td>(null)</td>\n",
       "      <td>False</td>\n",
       "      <td>ANZ_Savings</td>\n",
       "      <td>Fast Food</td>\n",
       "      <td>MCDONALDS</td>\n",
       "    </tr>\n",
       "  </tbody>\n",
       "</table>\n",
       "</div>"
      ],
      "text/plain": [
       "  date_of_transaction month_of_transaction  \\\n",
       "0            1/1/2023             1/1/2023   \n",
       "1            2/1/2023             1/1/2023   \n",
       "2            3/1/2023             1/1/2023   \n",
       "3            3/1/2023             1/1/2023   \n",
       "4            3/1/2023             1/1/2023   \n",
       "\n",
       "                                     details transaction deposit  \\\n",
       "0             SPOTIFY                 SYDNEY         -12  (null)   \n",
       "1      UBER EATS               HELP.UBER.COM         -32  (null)   \n",
       "2  PAYMENT FROM VITHUSHA VIGNESWARAMOORTHYÂ       (null)      10   \n",
       "3      SQ SCISSORS STYLE BAR DUNDAS VALLEYÂ          -30  (null)   \n",
       "4                      STORE MCDONALDS PARÂ       -19.35  (null)   \n",
       "\n",
       "   cc_balance_paid         card   category Subcategory  \n",
       "0            False         AMEX  Streaming     SPOTIFY  \n",
       "1            False         AMEX  Fast Food   UBER EATS  \n",
       "2            False  ANZ_Savings      Other       Other  \n",
       "3            False  ANZ_Savings      Other       Other  \n",
       "4            False  ANZ_Savings  Fast Food   MCDONALDS  "
      ]
     },
     "execution_count": 36,
     "metadata": {},
     "output_type": "execute_result"
    }
   ],
   "source": [
    "d.df.head()"
   ]
  },
  {
   "cell_type": "code",
   "execution_count": 37,
   "metadata": {},
   "outputs": [
    {
     "data": {
      "text/html": [
       "<div>\n",
       "<style scoped>\n",
       "    .dataframe tbody tr th:only-of-type {\n",
       "        vertical-align: middle;\n",
       "    }\n",
       "\n",
       "    .dataframe tbody tr th {\n",
       "        vertical-align: top;\n",
       "    }\n",
       "\n",
       "    .dataframe thead th {\n",
       "        text-align: right;\n",
       "    }\n",
       "</style>\n",
       "<table border=\"1\" class=\"dataframe\">\n",
       "  <thead>\n",
       "    <tr style=\"text-align: right;\">\n",
       "      <th></th>\n",
       "      <th>date_of_transaction</th>\n",
       "      <th>month_of_transaction</th>\n",
       "      <th>details</th>\n",
       "      <th>transaction</th>\n",
       "      <th>deposit</th>\n",
       "      <th>cc_balance_paid</th>\n",
       "      <th>card</th>\n",
       "      <th>category</th>\n",
       "      <th>Subcategory</th>\n",
       "    </tr>\n",
       "  </thead>\n",
       "  <tbody>\n",
       "  </tbody>\n",
       "</table>\n",
       "</div>"
      ],
      "text/plain": [
       "Empty DataFrame\n",
       "Columns: [date_of_transaction, month_of_transaction, details, transaction, deposit, cc_balance_paid, card, category, Subcategory]\n",
       "Index: []"
      ]
     },
     "execution_count": 37,
     "metadata": {},
     "output_type": "execute_result"
    }
   ],
   "source": [
    "\n",
    "#Good, in this example I wanted to make sure all fast food transactions had a subcategory (i.e specific merchant) and not other\n",
    "d.df.query('Subcategory == \"Other\" & category == \"Fast Food\"')\n",
    "\n"
   ]
  },
  {
   "cell_type": "code",
   "execution_count": 38,
   "metadata": {},
   "outputs": [],
   "source": [
    "df_copy = d.df.copy()"
   ]
  },
  {
   "cell_type": "code",
   "execution_count": 39,
   "metadata": {},
   "outputs": [
    {
     "data": {
      "text/html": [
       "<div>\n",
       "<style scoped>\n",
       "    .dataframe tbody tr th:only-of-type {\n",
       "        vertical-align: middle;\n",
       "    }\n",
       "\n",
       "    .dataframe tbody tr th {\n",
       "        vertical-align: top;\n",
       "    }\n",
       "\n",
       "    .dataframe thead th {\n",
       "        text-align: right;\n",
       "    }\n",
       "</style>\n",
       "<table border=\"1\" class=\"dataframe\">\n",
       "  <thead>\n",
       "    <tr style=\"text-align: right;\">\n",
       "      <th></th>\n",
       "      <th>date_of_transaction</th>\n",
       "      <th>month_of_transaction</th>\n",
       "      <th>details</th>\n",
       "      <th>transaction</th>\n",
       "      <th>deposit</th>\n",
       "      <th>cc_balance_paid</th>\n",
       "      <th>card</th>\n",
       "      <th>category</th>\n",
       "      <th>Subcategory</th>\n",
       "    </tr>\n",
       "  </thead>\n",
       "  <tbody>\n",
       "    <tr>\n",
       "      <th>0</th>\n",
       "      <td>1/1/2023</td>\n",
       "      <td>1/1/2023</td>\n",
       "      <td>SPOTIFY                 SYDNEY</td>\n",
       "      <td>-12</td>\n",
       "      <td>(null)</td>\n",
       "      <td>False</td>\n",
       "      <td>AMEX</td>\n",
       "      <td>Streaming</td>\n",
       "      <td>SPOTIFY</td>\n",
       "    </tr>\n",
       "    <tr>\n",
       "      <th>1</th>\n",
       "      <td>2/1/2023</td>\n",
       "      <td>1/1/2023</td>\n",
       "      <td>UBER EATS               HELP.UBER.COM</td>\n",
       "      <td>-32</td>\n",
       "      <td>(null)</td>\n",
       "      <td>False</td>\n",
       "      <td>AMEX</td>\n",
       "      <td>Fast Food</td>\n",
       "      <td>UBER EATS</td>\n",
       "    </tr>\n",
       "    <tr>\n",
       "      <th>2</th>\n",
       "      <td>3/1/2023</td>\n",
       "      <td>1/1/2023</td>\n",
       "      <td>PAYMENT FROM VITHUSHA VIGNESWARAMOORTHYÂ</td>\n",
       "      <td>(null)</td>\n",
       "      <td>10</td>\n",
       "      <td>False</td>\n",
       "      <td>ANZ_Savings</td>\n",
       "      <td>Other</td>\n",
       "      <td>Other</td>\n",
       "    </tr>\n",
       "    <tr>\n",
       "      <th>3</th>\n",
       "      <td>3/1/2023</td>\n",
       "      <td>1/1/2023</td>\n",
       "      <td>SQ SCISSORS STYLE BAR DUNDAS VALLEYÂ</td>\n",
       "      <td>-30</td>\n",
       "      <td>(null)</td>\n",
       "      <td>False</td>\n",
       "      <td>ANZ_Savings</td>\n",
       "      <td>Other</td>\n",
       "      <td>Other</td>\n",
       "    </tr>\n",
       "    <tr>\n",
       "      <th>4</th>\n",
       "      <td>3/1/2023</td>\n",
       "      <td>1/1/2023</td>\n",
       "      <td>STORE MCDONALDS PARÂ</td>\n",
       "      <td>-19.35</td>\n",
       "      <td>(null)</td>\n",
       "      <td>False</td>\n",
       "      <td>ANZ_Savings</td>\n",
       "      <td>Fast Food</td>\n",
       "      <td>MCDONALDS</td>\n",
       "    </tr>\n",
       "  </tbody>\n",
       "</table>\n",
       "</div>"
      ],
      "text/plain": [
       "  date_of_transaction month_of_transaction  \\\n",
       "0            1/1/2023             1/1/2023   \n",
       "1            2/1/2023             1/1/2023   \n",
       "2            3/1/2023             1/1/2023   \n",
       "3            3/1/2023             1/1/2023   \n",
       "4            3/1/2023             1/1/2023   \n",
       "\n",
       "                                     details transaction deposit  \\\n",
       "0             SPOTIFY                 SYDNEY         -12  (null)   \n",
       "1      UBER EATS               HELP.UBER.COM         -32  (null)   \n",
       "2  PAYMENT FROM VITHUSHA VIGNESWARAMOORTHYÂ       (null)      10   \n",
       "3      SQ SCISSORS STYLE BAR DUNDAS VALLEYÂ          -30  (null)   \n",
       "4                      STORE MCDONALDS PARÂ       -19.35  (null)   \n",
       "\n",
       "   cc_balance_paid         card   category Subcategory  \n",
       "0            False         AMEX  Streaming     SPOTIFY  \n",
       "1            False         AMEX  Fast Food   UBER EATS  \n",
       "2            False  ANZ_Savings      Other       Other  \n",
       "3            False  ANZ_Savings      Other       Other  \n",
       "4            False  ANZ_Savings  Fast Food   MCDONALDS  "
      ]
     },
     "execution_count": 39,
     "metadata": {},
     "output_type": "execute_result"
    }
   ],
   "source": [
    "df_copy.head()"
   ]
  },
  {
   "cell_type": "code",
   "execution_count": 40,
   "metadata": {},
   "outputs": [
    {
     "data": {
      "text/plain": [
       "array(['SPOTIFY', 'UBER EATS', 'Other', 'MCDONALDS', 'TRANSPORTFORNSW',\n",
       "       'KFC', 'FROM RESTPAYROLL', 'OPTUS', 'PRIME', 'DISNEY',\n",
       "       'STREAMOTION', 'BERLIN', 'GRILLD', 'NETFLIX', 'EVENT', 'GOOGLE',\n",
       "       'AMAZON', 'DBSGenesis', 'TRAVEL INSURANCE', 'SERVICE NSW',\n",
       "       'P MARIANAYAGAM', 'ANZ MOBILE BANKING PAYMENT', 'ATO PAYMENT',\n",
       "       'TO ZAC NAYLOR PT', 'COLES', 'FISH', 'IHS', 'UBER PASS',\n",
       "       'UBER ONE', 'M J BALE', 'WOOLWORTHS', 'UBER TRIP',\n",
       "       'MY MUSCLE CHEF', 'FREEDOM', 'DOORDASH', 'TO ASNU', 'HUNGRY JACKS',\n",
       "       'KOGAN', 'MENULOG', 'INTREPID ', 'THAI AIRWAYS', 'SINGAPORE',\n",
       "       'WISE', 'NANDOS', 'THE ACADEMY BRAND', 'MARRIOT', 'UNIQLO', 'GRAB'],\n",
       "      dtype=object)"
      ]
     },
     "execution_count": 40,
     "metadata": {},
     "output_type": "execute_result"
    }
   ],
   "source": [
    "df_copy.Subcategory.unique()"
   ]
  },
  {
   "cell_type": "code",
   "execution_count": 41,
   "metadata": {},
   "outputs": [],
   "source": [
    "df_copy.to_csv('../data/bank_transactions_final.csv', index= False)"
   ]
  },
  {
   "cell_type": "code",
   "execution_count": null,
   "metadata": {},
   "outputs": [],
   "source": []
  }
 ],
 "metadata": {
  "kernelspec": {
   "display_name": "Python 3",
   "language": "python",
   "name": "python3"
  },
  "language_info": {
   "codemirror_mode": {
    "name": "ipython",
    "version": 3
   },
   "file_extension": ".py",
   "mimetype": "text/x-python",
   "name": "python",
   "nbconvert_exporter": "python",
   "pygments_lexer": "ipython3",
   "version": "3.7.2"
  }
 },
 "nbformat": 4,
 "nbformat_minor": 2
}
